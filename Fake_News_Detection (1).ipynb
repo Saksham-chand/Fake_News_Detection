{
 "cells": [
  {
   "cell_type": "markdown",
   "metadata": {
    "id": "HMOlQaX8_97z"
   },
   "source": [
    "# **FAKE NEWS DETECTION MODEL**\n"
   ]
  },
  {
   "cell_type": "markdown",
   "metadata": {
    "id": "K8CI78b3TlZz"
   },
   "source": [
    "Importing the python libraries\n",
    "1. Pandas for data preprocessing and to perfrom various operation on the data\n",
    "2. Train_test_split to split data into training data and testing data\n",
    "3. Accuracy_score to find the accuracy of the model\n",
    "4. We have import re(Regular Expression) to search for text in documents\n",
    "5. We have imported Logistic Regression Model for our ML algorithm\n",
    "6. Atlast we have imported Tf-Idf Vectorizer to convert textual data into feature data/numerical data\n",
    "\n",
    "(Corpus is basically a collection of unique words)\n"
   ]
  },
  {
   "cell_type": "code",
   "execution_count": 1,
   "metadata": {
    "id": "8f3x7uwjQ8CS"
   },
   "outputs": [],
   "source": [
    "import pandas as pd\n",
    "from sklearn.model_selection import train_test_split\n",
    "from sklearn.metrics import accuracy_score\n",
    "import re\n",
    "from sklearn.linear_model import LogisticRegression\n",
    "from sklearn.feature_extraction.text import TfidfVectorizer\n"
   ]
  },
  {
   "cell_type": "markdown",
   "metadata": {
    "id": "_IYDoz20cLJm"
   },
   "source": [
    "Loading the dataset to the model"
   ]
  },
  {
   "cell_type": "code",
   "execution_count": 2,
   "metadata": {
    "colab": {
     "base_uri": "https://localhost:8080/"
    },
    "id": "CQFrZ3IAchLC",
    "outputId": "1592cc90-0b75-4901-df9c-b17e7007ba6c"
   },
   "outputs": [
    {
     "data": {
      "text/plain": [
       "(56714, 7)"
      ]
     },
     "execution_count": 2,
     "metadata": {},
     "output_type": "execute_result"
    }
   ],
   "source": [
    "data = pd.read_csv(\"IFND.csv\",encoding='latin1')\n",
    "data.shape"
   ]
  },
  {
   "cell_type": "markdown",
   "metadata": {
    "id": "7R-TrbbQeX8V"
   },
   "source": [
    "To find any values are missing or not"
   ]
  },
  {
   "cell_type": "code",
   "execution_count": 3,
   "metadata": {
    "colab": {
     "base_uri": "https://localhost:8080/"
    },
    "id": "DtempzqieG11",
    "outputId": "89f9afaf-a6fa-41fa-e764-28932477717c"
   },
   "outputs": [
    {
     "data": {
      "text/plain": [
       "id               0\n",
       "Statement        0\n",
       "Image            0\n",
       "Web              0\n",
       "Category         0\n",
       "Date         11321\n",
       "Label            0\n",
       "dtype: int64"
      ]
     },
     "execution_count": 3,
     "metadata": {},
     "output_type": "execute_result"
    }
   ],
   "source": [
    "data.isnull().sum()"
   ]
  },
  {
   "cell_type": "markdown",
   "metadata": {
    "id": "aUbtEZ9Dencn"
   },
   "source": [
    "To fill the missing values with null string"
   ]
  },
  {
   "cell_type": "code",
   "execution_count": 4,
   "metadata": {
    "id": "4K89vzHYeshy"
   },
   "outputs": [],
   "source": [
    "data=data.fillna('')"
   ]
  },
  {
   "cell_type": "code",
   "execution_count": 5,
   "metadata": {
    "colab": {
     "base_uri": "https://localhost:8080/"
    },
    "id": "ZDX_pTnee6zJ",
    "outputId": "946304e7-eb82-4737-e191-2ccc40811d88"
   },
   "outputs": [
    {
     "data": {
      "text/plain": [
       "id           0\n",
       "Statement    0\n",
       "Image        0\n",
       "Web          0\n",
       "Category     0\n",
       "Date         0\n",
       "Label        0\n",
       "dtype: int64"
      ]
     },
     "execution_count": 5,
     "metadata": {},
     "output_type": "execute_result"
    }
   ],
   "source": [
    "data.isnull().sum()"
   ]
  },
  {
   "cell_type": "markdown",
   "metadata": {
    "id": "H4t6uPjOflyL"
   },
   "source": [
    "To seperate the columns on the basis of feature ie the values to predict the outcome.\n",
    "X is the data/text/News data and Y is the prediction done after fitting the model with X data"
   ]
  },
  {
   "cell_type": "code",
   "execution_count": 6,
   "metadata": {
    "id": "fjOCzJW1fjRh"
   },
   "outputs": [],
   "source": [
    "X=data['Statement']\n",
    "Y=data['Label']"
   ]
  },
  {
   "cell_type": "markdown",
   "metadata": {
    "id": "tuw-s2W6xs0B"
   },
   "source": [
    "Converting the textual data to numeric form.\n",
    "\n",
    "Because machine can not understand textual data so it is to converted into feature data(which is the numerical representation of textual data)\n",
    "\n",
    "Tf-Idf(Term frequency-Inverse document frequency) vectorizer is basically used to count the number of times a word has appeared in a sentence\n",
    "\n",
    "Here count is just a variable/instance in which TfidfVectorizer has been loaded.\n",
    "\n",
    "count.fit function takes input data and creates a matrix/collection of unique set of words and it calculates th Idf score of the data\n",
    "\n",
    "count.tranform transforms the input data into the numeric feature data"
   ]
  },
  {
   "cell_type": "code",
   "execution_count": 7,
   "metadata": {
    "id": "GtQPlIRu087_"
   },
   "outputs": [],
   "source": [
    "count= TfidfVectorizer()\n",
    "count.fit(X)\n",
    "X=count.transform(X)"
   ]
  },
  {
   "cell_type": "markdown",
   "metadata": {
    "id": "YmqUIHNJyyL4"
   },
   "source": [
    "Splitting the data into training and testing data\n",
    "\n",
    "where test_size is the amount of data or the percentage of data with which the model is to be trained\n",
    "\n",
    "Stratify function is used to equally distribute True and False(ie Y columns) into the train and testing data inorder to avoid Bias output"
   ]
  },
  {
   "cell_type": "code",
   "execution_count": 8,
   "metadata": {
    "id": "lO6v795qjfiZ"
   },
   "outputs": [],
   "source": [
    "X_train, X_test, Y_train, Y_test = train_test_split(X, Y, test_size = 0.15, stratify=Y)"
   ]
  },
  {
   "cell_type": "markdown",
   "metadata": {
    "id": "kpP3gIi30ouU"
   },
   "source": [
    "Here, obj is an instance or Object of the LogisticRegression class, and it will be used to store the trained logistic regression model.\n",
    "\n",
    "And fits the Model with training data in the fit function which basically does all the calculations to predict the output which is nearest to the actual output"
   ]
  },
  {
   "cell_type": "code",
   "execution_count": 9,
   "metadata": {
    "colab": {
     "base_uri": "https://localhost:8080/",
     "height": 74
    },
    "id": "NLtbO0OZjsik",
    "outputId": "ce8a32be-2c5e-4a8b-9679-6104d15f0c06"
   },
   "outputs": [
    {
     "data": {
      "text/html": [
       "<style>#sk-container-id-1 {color: black;}#sk-container-id-1 pre{padding: 0;}#sk-container-id-1 div.sk-toggleable {background-color: white;}#sk-container-id-1 label.sk-toggleable__label {cursor: pointer;display: block;width: 100%;margin-bottom: 0;padding: 0.3em;box-sizing: border-box;text-align: center;}#sk-container-id-1 label.sk-toggleable__label-arrow:before {content: \"▸\";float: left;margin-right: 0.25em;color: #696969;}#sk-container-id-1 label.sk-toggleable__label-arrow:hover:before {color: black;}#sk-container-id-1 div.sk-estimator:hover label.sk-toggleable__label-arrow:before {color: black;}#sk-container-id-1 div.sk-toggleable__content {max-height: 0;max-width: 0;overflow: hidden;text-align: left;background-color: #f0f8ff;}#sk-container-id-1 div.sk-toggleable__content pre {margin: 0.2em;color: black;border-radius: 0.25em;background-color: #f0f8ff;}#sk-container-id-1 input.sk-toggleable__control:checked~div.sk-toggleable__content {max-height: 200px;max-width: 100%;overflow: auto;}#sk-container-id-1 input.sk-toggleable__control:checked~label.sk-toggleable__label-arrow:before {content: \"▾\";}#sk-container-id-1 div.sk-estimator input.sk-toggleable__control:checked~label.sk-toggleable__label {background-color: #d4ebff;}#sk-container-id-1 div.sk-label input.sk-toggleable__control:checked~label.sk-toggleable__label {background-color: #d4ebff;}#sk-container-id-1 input.sk-hidden--visually {border: 0;clip: rect(1px 1px 1px 1px);clip: rect(1px, 1px, 1px, 1px);height: 1px;margin: -1px;overflow: hidden;padding: 0;position: absolute;width: 1px;}#sk-container-id-1 div.sk-estimator {font-family: monospace;background-color: #f0f8ff;border: 1px dotted black;border-radius: 0.25em;box-sizing: border-box;margin-bottom: 0.5em;}#sk-container-id-1 div.sk-estimator:hover {background-color: #d4ebff;}#sk-container-id-1 div.sk-parallel-item::after {content: \"\";width: 100%;border-bottom: 1px solid gray;flex-grow: 1;}#sk-container-id-1 div.sk-label:hover label.sk-toggleable__label {background-color: #d4ebff;}#sk-container-id-1 div.sk-serial::before {content: \"\";position: absolute;border-left: 1px solid gray;box-sizing: border-box;top: 0;bottom: 0;left: 50%;z-index: 0;}#sk-container-id-1 div.sk-serial {display: flex;flex-direction: column;align-items: center;background-color: white;padding-right: 0.2em;padding-left: 0.2em;position: relative;}#sk-container-id-1 div.sk-item {position: relative;z-index: 1;}#sk-container-id-1 div.sk-parallel {display: flex;align-items: stretch;justify-content: center;background-color: white;position: relative;}#sk-container-id-1 div.sk-item::before, #sk-container-id-1 div.sk-parallel-item::before {content: \"\";position: absolute;border-left: 1px solid gray;box-sizing: border-box;top: 0;bottom: 0;left: 50%;z-index: -1;}#sk-container-id-1 div.sk-parallel-item {display: flex;flex-direction: column;z-index: 1;position: relative;background-color: white;}#sk-container-id-1 div.sk-parallel-item:first-child::after {align-self: flex-end;width: 50%;}#sk-container-id-1 div.sk-parallel-item:last-child::after {align-self: flex-start;width: 50%;}#sk-container-id-1 div.sk-parallel-item:only-child::after {width: 0;}#sk-container-id-1 div.sk-dashed-wrapped {border: 1px dashed gray;margin: 0 0.4em 0.5em 0.4em;box-sizing: border-box;padding-bottom: 0.4em;background-color: white;}#sk-container-id-1 div.sk-label label {font-family: monospace;font-weight: bold;display: inline-block;line-height: 1.2em;}#sk-container-id-1 div.sk-label-container {text-align: center;}#sk-container-id-1 div.sk-container {/* jupyter's `normalize.less` sets `[hidden] { display: none; }` but bootstrap.min.css set `[hidden] { display: none !important; }` so we also need the `!important` here to be able to override the default hidden behavior on the sphinx rendered scikit-learn.org. See: https://github.com/scikit-learn/scikit-learn/issues/21755 */display: inline-block !important;position: relative;}#sk-container-id-1 div.sk-text-repr-fallback {display: none;}</style><div id=\"sk-container-id-1\" class=\"sk-top-container\"><div class=\"sk-text-repr-fallback\"><pre>LogisticRegression()</pre><b>In a Jupyter environment, please rerun this cell to show the HTML representation or trust the notebook. <br />On GitHub, the HTML representation is unable to render, please try loading this page with nbviewer.org.</b></div><div class=\"sk-container\" hidden><div class=\"sk-item\"><div class=\"sk-estimator sk-toggleable\"><input class=\"sk-toggleable__control sk-hidden--visually\" id=\"sk-estimator-id-1\" type=\"checkbox\" checked><label for=\"sk-estimator-id-1\" class=\"sk-toggleable__label sk-toggleable__label-arrow\">LogisticRegression</label><div class=\"sk-toggleable__content\"><pre>LogisticRegression()</pre></div></div></div></div></div>"
      ],
      "text/plain": [
       "LogisticRegression()"
      ]
     },
     "execution_count": 9,
     "metadata": {},
     "output_type": "execute_result"
    }
   ],
   "source": [
    "obj=LogisticRegression()\n",
    "obj.fit(X_train, Y_train)"
   ]
  },
  {
   "cell_type": "code",
   "execution_count": 10,
   "metadata": {
    "colab": {
     "base_uri": "https://localhost:8080/"
    },
    "id": "3furBbIlx98h",
    "outputId": "b8783d42-cadd-40d5-e704-3ab48bcc8ac3"
   },
   "outputs": [
    {
     "name": "stdout",
     "output_type": "stream",
     "text": [
      "0.960896983777953\n"
     ]
    }
   ],
   "source": [
    "X_train_prediction=obj.predict(X_train)\n",
    "train_accuracy = accuracy_score(X_train_prediction, Y_train)\n",
    "print(train_accuracy)"
   ]
  },
  {
   "cell_type": "code",
   "execution_count": 11,
   "metadata": {
    "colab": {
     "base_uri": "https://localhost:8080/"
    },
    "id": "RcGw6xTXkhDH",
    "outputId": "03fdf65e-a81e-4730-98bf-8cbe48964228"
   },
   "outputs": [
    {
     "name": "stdout",
     "output_type": "stream",
     "text": [
      "0.9507522331922896\n"
     ]
    }
   ],
   "source": [
    "X_test_prediction =obj.predict(X_test)\n",
    "test_accuracy = accuracy_score(X_test_prediction, Y_test)\n",
    "print(test_accuracy)"
   ]
  },
  {
   "cell_type": "code",
   "execution_count": 18,
   "metadata": {
    "colab": {
     "base_uri": "https://localhost:8080/"
    },
    "id": "XyGE9-qk5PfB",
    "outputId": "35922f1b-d3d6-446f-c7c3-702216a152e9"
   },
   "outputs": [
    {
     "name": "stdout",
     "output_type": "stream",
     "text": [
      "Enter News: NDA won the elections of 2024\n",
      "THE NEWS IS TRUE\n"
     ]
    }
   ],
   "source": [
    "news= input(\"Enter News: \")\n",
    "news=count.transform([news])\n",
    "prediction=obj.predict(news)\n",
    "if prediction == \"TRUE\":\n",
    "    print(\"THE NEWS IS TRUE\")\n",
    "else:\n",
    "    print(\"THE NEWS IS FAKE\")"
   ]
  }
 ],
 "metadata": {
  "colab": {
   "provenance": []
  },
  "kernelspec": {
   "display_name": "Python 3 (ipykernel)",
   "language": "python",
   "name": "python3"
  },
  "language_info": {
   "codemirror_mode": {
    "name": "ipython",
    "version": 3
   },
   "file_extension": ".py",
   "mimetype": "text/x-python",
   "name": "python",
   "nbconvert_exporter": "python",
   "pygments_lexer": "ipython3",
   "version": "3.11.5"
  }
 },
 "nbformat": 4,
 "nbformat_minor": 1
}
